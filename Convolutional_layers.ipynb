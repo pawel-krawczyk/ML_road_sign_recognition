{
  "nbformat": 4,
  "nbformat_minor": 0,
  "metadata": {
    "colab": {
      "name": "Convolutional_layers.ipynb",
      "provenance": [],
      "collapsed_sections": [],
      "mount_file_id": "1f3iRUN6z0y-IDa_B1tRZUCbrgo-kw4Tf",
      "authorship_tag": "ABX9TyMUl5oW7xBzfrvz0XSlgJjr"
    },
    "kernelspec": {
      "name": "python3",
      "display_name": "Python 3"
    },
    "accelerator": "GPU"
  },
  "cells": [
    {
      "cell_type": "code",
      "metadata": {
        "id": "ua6BvcM6uCRH",
        "colab_type": "code",
        "outputId": "5ed4ca6e-5de2-4ee1-da62-fb7731e8e175",
        "colab": {
          "base_uri": "https://localhost:8080/",
          "height": 51
        }
      },
      "source": [
        "import pandas as pd\n",
        "import numpy as np\n",
        "import tensorflow as tf\n",
        "from tensorflow.keras.models import Sequential\n",
        "from tensorflow.keras.layers import Conv2D,MaxPool2D,Dense, Flatten, Dropout\n",
        "from tensorflow.keras.utils import to_categorical\n",
        "\n",
        "import os\n",
        "import datetime\n",
        "\n",
        "import matplotlib.pyplot as plt\n",
        "from skimage import color, exposure\n",
        "\n",
        "from sklearn.metrics import accuracy_score\n",
        "\n",
        "%load_ext tensorboard"
      ],
      "execution_count": 0,
      "outputs": [
        {
          "output_type": "stream",
          "text": [
            "The tensorboard extension is already loaded. To reload it, use:\n",
            "  %reload_ext tensorboard\n"
          ],
          "name": "stdout"
        }
      ]
    },
    {
      "cell_type": "code",
      "metadata": {
        "id": "2KJw2j9Vulzn",
        "colab_type": "code",
        "outputId": "92eeb51b-2217-4f71-dfa0-e8572566731f",
        "colab": {
          "base_uri": "https://localhost:8080/",
          "height": 34
        }
      },
      "source": [
        "cd '/content/drive/My Drive/Colab Notebooks/matrix/road_sign_recognition'"
      ],
      "execution_count": 0,
      "outputs": [
        {
          "output_type": "stream",
          "text": [
            "/content/drive/My Drive/Colab Notebooks/matrix/road_sign_recognition\n"
          ],
          "name": "stdout"
        }
      ]
    },
    {
      "cell_type": "code",
      "metadata": {
        "id": "MPR8nbu00zFs",
        "colab_type": "code",
        "colab": {}
      },
      "source": [
        "#get data\n",
        "train= pd.read_pickle('ML_road_sign_recognition/data/train.p')\n",
        "test= pd.read_pickle('ML_road_sign_recognition/data/test.p')"
      ],
      "execution_count": 0,
      "outputs": []
    },
    {
      "cell_type": "code",
      "metadata": {
        "id": "IKqosu8v015X",
        "colab_type": "code",
        "colab": {}
      },
      "source": [
        "#create test and train sets\n",
        "X_train,y_train=train['features'], train['labels']\n",
        "X_test,y_test=train['features'], train['labels']"
      ],
      "execution_count": 0,
      "outputs": []
    },
    {
      "cell_type": "code",
      "metadata": {
        "id": "3HE6Crqv346j",
        "colab_type": "code",
        "colab": {}
      },
      "source": [
        "#change number of dimentions to be matching with number of sign names\n",
        "if y_train.ndim==1:y_train=to_categorical(y_train)"
      ],
      "execution_count": 0,
      "outputs": []
    },
    {
      "cell_type": "code",
      "metadata": {
        "id": "EXNrNro_DYcJ",
        "colab_type": "code",
        "colab": {}
      },
      "source": [
        "if y_test.ndim==1:y_test=to_categorical(y_test)"
      ],
      "execution_count": 0,
      "outputs": []
    },
    {
      "cell_type": "code",
      "metadata": {
        "id": "s0bG7ObYHQ1C",
        "colab_type": "code",
        "outputId": "585283b9-ab74-49fd-c4c6-50f3adb18f0f",
        "colab": {
          "base_uri": "https://localhost:8080/",
          "height": 34
        }
      },
      "source": [
        "y_test.shape"
      ],
      "execution_count": 0,
      "outputs": [
        {
          "output_type": "execute_result",
          "data": {
            "text/plain": [
              "(34799, 43)"
            ]
          },
          "metadata": {
            "tags": []
          },
          "execution_count": 7
        }
      ]
    },
    {
      "cell_type": "code",
      "metadata": {
        "id": "nXqo27wsLhiT",
        "colab_type": "code",
        "colab": {}
      },
      "source": [
        "#get impoyt size na num classes for he train dataset\n",
        "input_size=X_train.shape[1:]\n",
        "num_clases=y_train.shape[1]"
      ],
      "execution_count": 0,
      "outputs": []
    },
    {
      "cell_type": "code",
      "metadata": {
        "id": "hLzPsCL3HgEc",
        "colab_type": "code",
        "colab": {}
      },
      "source": [
        "#function for creating model\n",
        "def get_cnn_v1(input_size, num_clases):\n",
        "  return Sequential([\n",
        "                    Conv2D(filters=64,kernel_size=(3,3), activation='relu', input_shape=input_size),\n",
        "                    Flatten(),\n",
        "                    Dense(num_clases,activation='softmax')\n",
        "\n",
        "  ])"
      ],
      "execution_count": 0,
      "outputs": []
    },
    {
      "cell_type": "code",
      "metadata": {
        "id": "vLMLARnYOVPs",
        "colab_type": "code",
        "colab": {}
      },
      "source": [
        "#training the model, preparation of the tensorboard_callback for the training visualisations\n",
        "def train(model,X_train,y_train,params_fit={}):\n",
        "  model.compile(loss='categorical_crossentropy', optimizer='Adam', metrics=['accuracy'])\n",
        "  \n",
        "  logdir=os.path.join('logs',datetime.datetime.now().strftime('%Y%m%d-%H%M%S') )\n",
        "  tensorboard_callback=tf.keras.callbacks.TensorBoard(logdir,histogram_freq=1)\n",
        "  \n",
        "  model.fit(X_train,y_train,\n",
        "            batch_size=params_fit.get('batch_size',128),\n",
        "            epochs=params_fit.get('epochs',5),\n",
        "            verbose=params_fit.get('verbose',1),\n",
        "            validation_data=params_fit.get('validation_data',(X_train,y_train)),\n",
        "            callbacks=[tensorboard_callback]\n",
        "            )\n",
        "  return model"
      ],
      "execution_count": 0,
      "outputs": []
    },
    {
      "cell_type": "code",
      "metadata": {
        "id": "tCfQHGHHOdQ9",
        "colab_type": "code",
        "outputId": "48e524b0-113b-49ed-b0ab-052fa5c032b0",
        "colab": {
          "base_uri": "https://localhost:8080/",
          "height": 255
        }
      },
      "source": [
        "model=get_cnn_v1(input_size, num_clases)\n",
        "model.summary()"
      ],
      "execution_count": 0,
      "outputs": [
        {
          "output_type": "stream",
          "text": [
            "Model: \"sequential\"\n",
            "_________________________________________________________________\n",
            "Layer (type)                 Output Shape              Param #   \n",
            "=================================================================\n",
            "conv2d (Conv2D)              (None, 30, 30, 64)        1792      \n",
            "_________________________________________________________________\n",
            "flatten (Flatten)            (None, 57600)             0         \n",
            "_________________________________________________________________\n",
            "dense (Dense)                (None, 43)                2476843   \n",
            "=================================================================\n",
            "Total params: 2,478,635\n",
            "Trainable params: 2,478,635\n",
            "Non-trainable params: 0\n",
            "_________________________________________________________________\n"
          ],
          "name": "stdout"
        }
      ]
    },
    {
      "cell_type": "code",
      "metadata": {
        "id": "9-Nli-_mQVp5",
        "colab_type": "code",
        "outputId": "f673342a-a536-498f-f665-21ac0e960676",
        "colab": {
          "base_uri": "https://localhost:8080/",
          "height": 187
        }
      },
      "source": [
        "model_trained=train(model,X_train,y_train)"
      ],
      "execution_count": 0,
      "outputs": [
        {
          "output_type": "stream",
          "text": [
            "Epoch 1/5\n",
            "272/272 [==============================] - 7s 24ms/step - loss: 55.1587 - accuracy: 0.7265 - val_loss: 0.2472 - val_accuracy: 0.9379\n",
            "Epoch 2/5\n",
            "272/272 [==============================] - 6s 23ms/step - loss: 0.2200 - accuracy: 0.9473 - val_loss: 0.1315 - val_accuracy: 0.9677\n",
            "Epoch 3/5\n",
            "272/272 [==============================] - 6s 23ms/step - loss: 0.1377 - accuracy: 0.9663 - val_loss: 0.1228 - val_accuracy: 0.9686\n",
            "Epoch 4/5\n",
            "272/272 [==============================] - 6s 23ms/step - loss: 0.1168 - accuracy: 0.9717 - val_loss: 0.1400 - val_accuracy: 0.9660\n",
            "Epoch 5/5\n",
            "272/272 [==============================] - 6s 23ms/step - loss: 0.0860 - accuracy: 0.9793 - val_loss: 0.0604 - val_accuracy: 0.9861\n"
          ],
          "name": "stdout"
        }
      ]
    },
    {
      "cell_type": "code",
      "metadata": {
        "id": "X8enq6PF4JJb",
        "colab_type": "code",
        "outputId": "b63ec612-6ce5-4f26-8841-6d5746affc66",
        "colab": {
          "base_uri": "https://localhost:8080/",
          "height": 238
        }
      },
      "source": [
        "#predict y_test_prob (list of pobabilities for each sign ID) from test using the model above\n",
        "y_test_prob=model_trained.predict(X_test)\n",
        "y_test_prob"
      ],
      "execution_count": 0,
      "outputs": [
        {
          "output_type": "execute_result",
          "data": {
            "text/plain": [
              "array([[1.20934529e-09, 5.64215441e-07, 5.65832536e-09, ...,\n",
              "        1.20312834e-04, 9.99642611e-01, 1.33932308e-05],\n",
              "       [3.07554058e-13, 4.28273905e-09, 7.82080178e-08, ...,\n",
              "        1.09955076e-08, 9.96348321e-01, 6.75546119e-10],\n",
              "       [4.64303524e-15, 4.80699508e-12, 7.58557162e-10, ...,\n",
              "        2.70434231e-10, 9.99525547e-01, 6.49041845e-12],\n",
              "       ...,\n",
              "       [5.35874538e-34, 4.18005962e-17, 4.09787255e-21, ...,\n",
              "        2.69688991e-20, 0.00000000e+00, 1.69369304e-29],\n",
              "       [2.36919967e-26, 3.90406114e-20, 8.97851822e-19, ...,\n",
              "        6.37619574e-21, 7.27423063e-30, 1.40119764e-30],\n",
              "       [2.48055051e-31, 6.18395315e-19, 6.09792320e-23, ...,\n",
              "        1.23881929e-18, 8.19716762e-32, 3.90225803e-32]], dtype=float32)"
            ]
          },
          "metadata": {
            "tags": []
          },
          "execution_count": 13
        }
      ]
    },
    {
      "cell_type": "code",
      "metadata": {
        "id": "pczbsaWdP4BO",
        "colab_type": "code",
        "outputId": "8563974a-4849-4129-fdf9-011394ee2423",
        "colab": {
          "base_uri": "https://localhost:8080/",
          "height": 34
        }
      },
      "source": [
        "#checking data for sample sign\n",
        "#create dictionary with sign labels - id: sign name\n",
        "signs= pd.read_csv('ML_road_sign_recognition/data/signnames.csv')\n",
        "dict_signs=signs.to_dict()['b']\n",
        "\n",
        "# name of the sign y_test_prob[400] - argmax for checking which id has the highest probability\n",
        "dict_signs[np.argmax(y_test_prob[400])]"
      ],
      "execution_count": 0,
      "outputs": [
        {
          "output_type": "execute_result",
          "data": {
            "text/plain": [
              "'Wild animals crossing'"
            ]
          },
          "metadata": {
            "tags": []
          },
          "execution_count": 28
        }
      ]
    },
    {
      "cell_type": "code",
      "metadata": {
        "id": "MlKoOK244KHt",
        "colab_type": "code",
        "outputId": "5a5e4ab0-9f40-43fb-8369-933a6efda164",
        "colab": {
          "base_uri": "https://localhost:8080/",
          "height": 283
        }
      },
      "source": [
        "#display image\n",
        "plt.imshow(X_test[400])"
      ],
      "execution_count": 0,
      "outputs": [
        {
          "output_type": "execute_result",
          "data": {
            "text/plain": [
              "<matplotlib.image.AxesImage at 0x7f154f210c88>"
            ]
          },
          "metadata": {
            "tags": []
          },
          "execution_count": 32
        },
        {
          "output_type": "display_data",
          "data": {
            "image/png": "[encoded data removed]",
            "text/plain": [
              "<Figure size 432x288 with 1 Axes>"
            ]
          },
          "metadata": {
            "tags": []
          }
        }
      ]
    },
    {
      "cell_type": "code",
      "metadata": {
        "id": "mIwTCAYo4KMF",
        "colab_type": "code",
        "outputId": "31c29b04-5d93-48d1-bbb0-9b838ce37fd4",
        "colab": {
          "base_uri": "https://localhost:8080/",
          "height": 282
        }
      },
      "source": [
        "#probabiity distribution for y_test_prob[400]\n",
        "plt.bar(range(43),y_test_prob[400] )"
      ],
      "execution_count": 0,
      "outputs": [
        {
          "output_type": "execute_result",
          "data": {
            "text/plain": [
              "<BarContainer object of 43 artists>"
            ]
          },
          "metadata": {
            "tags": []
          },
          "execution_count": 33
        },
        {
          "output_type": "display_data",
          "data": {
            "image/png": "[encoded data removed]",
            "text/plain": [
              "<Figure size 432x288 with 1 Axes>"
            ]
          },
          "metadata": {
            "tags": []
          }
        }
      ]
    },
    {
      "cell_type": "code",
      "metadata": {
        "id": "HRSEvdDUSyrz",
        "colab_type": "code",
        "colab": {}
      },
      "source": [
        "#for checking score\n",
        "def predict_score(model_trained, X_test, y_test,scoring=accuracy_score):\n",
        "  y_test_norm=np.argmax(y_test, axis=1)\n",
        "  y_test_prob=model_trained.predict(X_test)\n",
        "  y_pred=np.argmax(y_test_prob,axis=1)\n",
        "\n",
        "  return scoring(y_test_norm,y_pred)\n"
      ],
      "execution_count": 0,
      "outputs": []
    },
    {
      "cell_type": "code",
      "metadata": {
        "id": "FiZBpAyBUjka",
        "colab_type": "code",
        "outputId": "a6c39e41-d42e-4253-ef81-df77a1ffbc17",
        "colab": {
          "base_uri": "https://localhost:8080/",
          "height": 34
        }
      },
      "source": [
        "predict_score(model_trained, X_test, y_test)"
      ],
      "execution_count": 0,
      "outputs": [
        {
          "output_type": "execute_result",
          "data": {
            "text/plain": [
              "0.9861202908129544"
            ]
          },
          "metadata": {
            "tags": []
          },
          "execution_count": 57
        }
      ]
    },
    {
      "cell_type": "code",
      "metadata": {
        "id": "g0AwX2V4Ujnb",
        "colab_type": "code",
        "colab": {}
      },
      "source": [
        "#2nd function for creating model\n",
        "def get_cnn_v2(input_size, num_clases):\n",
        "  return Sequential([\n",
        "                    Conv2D(filters=32,kernel_size=(3,3), activation='relu', input_shape=input_size),\n",
        "                    MaxPool2D(),\n",
        "                    Dropout(0.3),\n",
        "                     \n",
        "                    Conv2D(filters=64,kernel_size=(3,3), activation='relu'),\n",
        "                    MaxPool2D(),\n",
        "                    Dropout(0.3),\n",
        "                     \n",
        "                    Flatten(),\n",
        "                    \n",
        "                    Dense(1024,activation='relu'),\n",
        "                    Dropout(0.5),\n",
        "                     \n",
        "                    Dense(num_clases,activation='softmax')\n",
        "\n",
        "  ])\n",
        "\n"
      ],
      "execution_count": 0,
      "outputs": []
    },
    {
      "cell_type": "code",
      "metadata": {
        "id": "al53I41FW63M",
        "colab_type": "code",
        "outputId": "06fd7fba-eee6-43c3-b613-d4db06dea6ab",
        "colab": {
          "base_uri": "https://localhost:8080/",
          "height": 34
        }
      },
      "source": [
        "#combine train and predict\n",
        "def train_predict(my_model):\n",
        "  model_trained=train(my_model,X_train,y_train)\n",
        "  return predict_score(model_trained, X_test, y_test)\n",
        "\n"
      ],
      "execution_count": 0,
      "outputs": [
        {
          "output_type": "stream",
          "text": [
            "ERROR! Session/line number was not unique in database. History logging moved to new session 60\n"
          ],
          "name": "stdout"
        }
      ]
    },
    {
      "cell_type": "code",
      "metadata": {
        "id": "nyZ_JkXPW6vJ",
        "colab_type": "code",
        "outputId": "70799262-8621-4f8c-c5c5-1770beb23e91",
        "colab": {
          "base_uri": "https://localhost:8080/",
          "height": 204
        }
      },
      "source": [
        "train_predict(get_cnn_v2(input_size, num_clases))\n"
      ],
      "execution_count": 0,
      "outputs": [
        {
          "output_type": "stream",
          "text": [
            "Epoch 1/5\n",
            "272/272 [==============================] - 6s 24ms/step - loss: 6.1070 - accuracy: 0.1808 - val_loss: 2.1267 - val_accuracy: 0.4273\n",
            "Epoch 2/5\n",
            "272/272 [==============================] - 6s 23ms/step - loss: 1.9261 - accuracy: 0.4519 - val_loss: 1.1071 - val_accuracy: 0.6737\n",
            "Epoch 3/5\n",
            "272/272 [==============================] - 6s 23ms/step - loss: 1.2699 - accuracy: 0.6217 - val_loss: 0.6864 - val_accuracy: 0.8452\n",
            "Epoch 4/5\n",
            "272/272 [==============================] - 6s 23ms/step - loss: 0.8668 - accuracy: 0.7374 - val_loss: 0.3279 - val_accuracy: 0.9153\n",
            "Epoch 5/5\n",
            "272/272 [==============================] - 6s 23ms/step - loss: 0.6195 - accuracy: 0.8117 - val_loss: 0.2056 - val_accuracy: 0.9561\n"
          ],
          "name": "stdout"
        },
        {
          "output_type": "execute_result",
          "data": {
            "text/plain": [
              "0.9561194287192161"
            ]
          },
          "metadata": {
            "tags": []
          },
          "execution_count": 71
        }
      ]
    },
    {
      "cell_type": "code",
      "metadata": {
        "id": "Fun3bbxsYMW9",
        "colab_type": "code",
        "outputId": "23b5cc40-27af-4fe7-8872-04b564364f18",
        "colab": {
          "base_uri": "https://localhost:8080/",
          "height": 204
        }
      },
      "source": [
        "#additional layers\n",
        "def get_cnn_v3(input_size, num_clases):\n",
        "  return Sequential([\n",
        "                    Conv2D(filters=32,kernel_size=(3,3), activation='relu', input_shape=input_size),\n",
        "                    Conv2D(filters=32,kernel_size=(3,3), activation='relu'),\n",
        "                    MaxPool2D(),\n",
        "                    Dropout(0.5),\n",
        "                    \n",
        "                    Conv2D(filters=64,kernel_size=(3,3), activation='relu'),\n",
        "                    Conv2D(filters=64,kernel_size=(3,3), activation='relu'),\n",
        "                    MaxPool2D(),\n",
        "                    Dropout(0.3),\n",
        "                     \n",
        "                    Flatten(),\n",
        "                    \n",
        "                    Dense(1024,activation='relu'),\n",
        "                    Dropout(0.5),\n",
        "                     \n",
        "                    Dense(num_clases,activation='softmax')\n",
        "\n",
        "  ])\n",
        "\n",
        "train_predict(get_cnn_v3(input_size, num_clases))"
      ],
      "execution_count": 0,
      "outputs": [
        {
          "output_type": "stream",
          "text": [
            "Epoch 1/5\n",
            "272/272 [==============================] - 10s 37ms/step - loss: 2.4524 - accuracy: 0.4057 - val_loss: 0.7989 - val_accuracy: 0.8048\n",
            "Epoch 2/5\n",
            "272/272 [==============================] - 10s 36ms/step - loss: 0.7066 - accuracy: 0.7787 - val_loss: 0.1930 - val_accuracy: 0.9528\n",
            "Epoch 3/5\n",
            "272/272 [==============================] - 10s 36ms/step - loss: 0.3818 - accuracy: 0.8811 - val_loss: 0.0809 - val_accuracy: 0.9778\n",
            "Epoch 4/5\n",
            "272/272 [==============================] - 10s 36ms/step - loss: 0.2612 - accuracy: 0.9193 - val_loss: 0.0503 - val_accuracy: 0.9871\n",
            "Epoch 5/5\n",
            "272/272 [==============================] - 10s 36ms/step - loss: 0.2070 - accuracy: 0.9349 - val_loss: 0.0519 - val_accuracy: 0.9895\n"
          ],
          "name": "stdout"
        },
        {
          "output_type": "execute_result",
          "data": {
            "text/plain": [
              "0.9895399293083135"
            ]
          },
          "metadata": {
            "tags": []
          },
          "execution_count": 72
        }
      ]
    },
    {
      "cell_type": "code",
      "metadata": {
        "id": "ttX4lmZQeJE9",
        "colab_type": "code",
        "outputId": "f9832432-eefc-4131-f14a-5bdaf815b1e6",
        "colab": {
          "base_uri": "https://localhost:8080/",
          "height": 204
        }
      },
      "source": [
        "#additional layers\n",
        "def get_cnn_v4(input_size, num_clases):\n",
        "  return Sequential([\n",
        "                    Conv2D(filters=32,kernel_size=(3,3), activation='relu', input_shape=input_size),\n",
        "                    Conv2D(filters=32,kernel_size=(3,3), activation='relu',padding='same'),\n",
        "                    MaxPool2D(),\n",
        "                    Dropout(0.3),\n",
        "                    \n",
        "                    Conv2D(filters=64,kernel_size=(3,3), activation='relu',padding='same'),\n",
        "                    Conv2D(filters=64,kernel_size=(3,3), activation='relu'),\n",
        "                    MaxPool2D(),\n",
        "                    Dropout(0.3),\n",
        "                    \n",
        "                    Conv2D(filters=64,kernel_size=(3,3), activation='relu',padding='same'),\n",
        "                    Conv2D(filters=64,kernel_size=(3,3), activation='relu'),\n",
        "                    MaxPool2D(),\n",
        "                    Dropout(0.3),\n",
        "\n",
        "\n",
        "                    Flatten(),\n",
        "                    \n",
        "                    Dense(1024,activation='relu'),\n",
        "                    Dropout(0.3),\n",
        "                     \n",
        "                    Dense(num_clases,activation='softmax')\n",
        "\n",
        "  ])\n",
        "\n",
        "train_predict(get_cnn_v4(input_size, num_clases))"
      ],
      "execution_count": 0,
      "outputs": [
        {
          "output_type": "stream",
          "text": [
            "Epoch 1/5\n",
            "272/272 [==============================] - 12s 44ms/step - loss: 2.5696 - accuracy: 0.3186 - val_loss: 0.7671 - val_accuracy: 0.7634\n",
            "Epoch 2/5\n",
            "272/272 [==============================] - 12s 43ms/step - loss: 0.7907 - accuracy: 0.7589 - val_loss: 0.1884 - val_accuracy: 0.9508\n",
            "Epoch 3/5\n",
            "272/272 [==============================] - 12s 43ms/step - loss: 0.3716 - accuracy: 0.8867 - val_loss: 0.0921 - val_accuracy: 0.9752\n",
            "Epoch 4/5\n",
            "272/272 [==============================] - 12s 43ms/step - loss: 0.2488 - accuracy: 0.9247 - val_loss: 0.0626 - val_accuracy: 0.9834\n",
            "Epoch 5/5\n",
            "272/272 [==============================] - 12s 43ms/step - loss: 0.1853 - accuracy: 0.9434 - val_loss: 0.0368 - val_accuracy: 0.9905\n"
          ],
          "name": "stdout"
        },
        {
          "output_type": "execute_result",
          "data": {
            "text/plain": [
              "0.9904594959625277"
            ]
          },
          "metadata": {
            "tags": []
          },
          "execution_count": 76
        }
      ]
    },
    {
      "cell_type": "code",
      "metadata": {
        "id": "tjGRZYd6evIo",
        "colab_type": "code",
        "outputId": "2d35d80c-4755-423d-cbd5-67b1ca147070",
        "colab": {
          "base_uri": "https://localhost:8080/",
          "height": 204
        }
      },
      "source": [
        "#additional layers\n",
        "def get_cnn_v5(input_size, num_clases):\n",
        "  return Sequential([\n",
        "                    Conv2D(filters=32,kernel_size=(3,3), activation='relu', input_shape=input_size),\n",
        "                    Conv2D(filters=32,kernel_size=(3,3), activation='relu',padding='same'),\n",
        "                    MaxPool2D(),\n",
        "                    Dropout(0.3),\n",
        "                    \n",
        "                    Conv2D(filters=64,kernel_size=(3,3), activation='relu',padding='same'),\n",
        "                    Conv2D(filters=64,kernel_size=(3,3), activation='relu'),\n",
        "                    MaxPool2D(),\n",
        "                    Dropout(0.3),\n",
        "                    \n",
        "                    Conv2D(filters=64,kernel_size=(3,3), activation='relu',padding='same'),\n",
        "                    Conv2D(filters=64,kernel_size=(3,3), activation='relu'),\n",
        "                    MaxPool2D(),\n",
        "                    Dropout(0.3),\n",
        "\n",
        "\n",
        "                    Flatten(),\n",
        "                    \n",
        "                    Dense(1024,activation='relu'),\n",
        "                    Dropout(0.3),\n",
        "                     \n",
        "                    Dense(1024,activation='relu'),\n",
        "                    Dropout(0.3),\n",
        "                     \n",
        "                    Dense(num_clases,activation='softmax')\n",
        "\n",
        "  ])\n",
        "\n",
        "train_predict(get_cnn_v5(input_size, num_clases))"
      ],
      "execution_count": 0,
      "outputs": [
        {
          "output_type": "stream",
          "text": [
            "Epoch 1/5\n",
            "272/272 [==============================] - 13s 46ms/step - loss: 2.6612 - accuracy: 0.2696 - val_loss: 1.2638 - val_accuracy: 0.5927\n",
            "Epoch 2/5\n",
            "272/272 [==============================] - 12s 45ms/step - loss: 1.0610 - accuracy: 0.6481 - val_loss: 0.3439 - val_accuracy: 0.8786\n",
            "Epoch 3/5\n",
            "272/272 [==============================] - 12s 45ms/step - loss: 0.4938 - accuracy: 0.8387 - val_loss: 0.1236 - val_accuracy: 0.9657\n",
            "Epoch 4/5\n",
            "272/272 [==============================] - 12s 45ms/step - loss: 0.3246 - accuracy: 0.8988 - val_loss: 0.0589 - val_accuracy: 0.9832\n",
            "Epoch 5/5\n",
            "272/272 [==============================] - 12s 45ms/step - loss: 0.2303 - accuracy: 0.9305 - val_loss: 0.0628 - val_accuracy: 0.9815\n"
          ],
          "name": "stdout"
        },
        {
          "output_type": "execute_result",
          "data": {
            "text/plain": [
              "0.9815224575418834"
            ]
          },
          "metadata": {
            "tags": []
          },
          "execution_count": 75
        }
      ]
    },
    {
      "cell_type": "code",
      "metadata": {
        "id": "k5FKJq9ievMk",
        "colab_type": "code",
        "outputId": "a86f3f0e-4c73-40ec-a400-91558f32c251",
        "colab": {
          "base_uri": "https://localhost:8080/",
          "height": 283
        }
      },
      "source": [
        "# reducing colors into 1\n",
        "plt.imshow(color.rgb2gray(X_train[0]))"
      ],
      "execution_count": 0,
      "outputs": [
        {
          "output_type": "execute_result",
          "data": {
            "text/plain": [
              "<matplotlib.image.AxesImage at 0x7f154a4375f8>"
            ]
          },
          "metadata": {
            "tags": []
          },
          "execution_count": 81
        },
        {
          "output_type": "display_data",
          "data": {
            "image/png": "[encoded data removed]",
            "text/plain": [
              "<Figure size 432x288 with 1 Axes>"
            ]
          },
          "metadata": {
            "tags": []
          }
        }
      ]
    },
    {
      "cell_type": "code",
      "metadata": {
        "id": "QLNPvvStevPG",
        "colab_type": "code",
        "outputId": "14df9c6b-ee97-4f89-dbf8-6a5f46cf1bda",
        "colab": {
          "base_uri": "https://localhost:8080/",
          "height": 34
        }
      },
      "source": [
        "#preparing new gray datasets and reshaping into (X,32,32,1) instead of (X,32,32) - we need it for traiing\n",
        "X_train_gray=color.rgb2gray(X_train).reshape(-1,32,32,1)\n",
        "X_test_gray=color.rgb2gray(X_test).reshape(-1,32,32,1)\n",
        "\n",
        "print(X_test_gray.shape,X_test_gray.shape)"
      ],
      "execution_count": 0,
      "outputs": [
        {
          "output_type": "stream",
          "text": [
            "(34799, 32, 32, 1) (34799, 32, 32, 1)\n"
          ],
          "name": "stdout"
        }
      ]
    },
    {
      "cell_type": "code",
      "metadata": {
        "id": "mlk55SAugYi_",
        "colab_type": "code",
        "outputId": "59f718b8-3604-4c5f-a3d0-4ccee7504cb5",
        "colab": {
          "base_uri": "https://localhost:8080/",
          "height": 204
        }
      },
      "source": [
        "model=get_cnn_v5((32,32,1), num_clases)\n",
        "\n",
        "\n",
        "model_trained=train(model,X_train_gray,y_train,params_fit={})\n",
        "\n",
        "predict_score(model_trained, X_test_gray, y_test,scoring=accuracy_score)"
      ],
      "execution_count": 0,
      "outputs": [
        {
          "output_type": "stream",
          "text": [
            "Epoch 1/5\n",
            "272/272 [==============================] - 12s 46ms/step - loss: 2.3380 - accuracy: 0.3337 - val_loss: 0.6640 - val_accuracy: 0.7764\n",
            "Epoch 2/5\n",
            "272/272 [==============================] - 12s 45ms/step - loss: 0.5412 - accuracy: 0.8278 - val_loss: 0.1370 - val_accuracy: 0.9578\n",
            "Epoch 3/5\n",
            "272/272 [==============================] - 12s 45ms/step - loss: 0.2374 - accuracy: 0.9253 - val_loss: 0.0749 - val_accuracy: 0.9811\n",
            "Epoch 4/5\n",
            "272/272 [==============================] - 12s 45ms/step - loss: 0.1544 - accuracy: 0.9517 - val_loss: 0.0318 - val_accuracy: 0.9918\n",
            "Epoch 5/5\n",
            "272/272 [==============================] - 12s 45ms/step - loss: 0.1221 - accuracy: 0.9634 - val_loss: 0.0253 - val_accuracy: 0.9934\n"
          ],
          "name": "stdout"
        },
        {
          "output_type": "execute_result",
          "data": {
            "text/plain": [
              "0.9933906146728354"
            ]
          },
          "metadata": {
            "tags": []
          },
          "execution_count": 100
        }
      ]
    }
  ]
}